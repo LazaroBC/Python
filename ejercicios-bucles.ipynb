{
 "metadata": {
  "language_info": {
   "codemirror_mode": {
    "name": "ipython",
    "version": 3
   },
   "file_extension": ".py",
   "mimetype": "text/x-python",
   "name": "python",
   "nbconvert_exporter": "python",
   "pygments_lexer": "ipython3",
   "version": "3.8.3-final"
  },
  "orig_nbformat": 2,
  "kernelspec": {
   "name": "python3",
   "display_name": "Python 3"
  }
 },
 "nbformat": 4,
 "nbformat_minor": 2,
 "cells": [
  {
   "cell_type": "code",
   "execution_count": 4,
   "metadata": {
    "tags": []
   },
   "outputs": [
    {
     "output_type": "stream",
     "name": "stdout",
     "text": [
      "Has cumplido  1  años\nHas cumplido  2  años\nHas cumplido  3  años\nHas cumplido  4  años\nHas cumplido  5  años\n"
     ]
    }
   ],
   "source": [
    "# Ejercicio 2: Escribir un programa que pregunte al usuario su edad y muestre por pantalla todos los años que ha cumplido (desde 1 hasta su edad).\n",
    "\n",
    "edad = int(input(\"Dimetu edad: \"))\n",
    "\n",
    "for i in range(edad):\n",
    "    print (\"Has cumplido \",i + 1, \" años\")"
   ]
  },
  {
   "cell_type": "code",
   "execution_count": 1,
   "metadata": {
    "tags": [
     "outputPrepend"
    ]
   },
   "outputs": [
    {
     "output_type": "stream",
     "name": "stdout",
     "text": [
      "\n1, 3, 5, 7, 9, 11, "
     ]
    }
   ],
   "source": [
    "# Ejercicio 3: Escribir un programa que pida al usuario un número entero positivo y muestre por pantalla todos los números impares desde 1 hasta ese número separados por comas.\n",
    "\n",
    "\n",
    "numero = int(input(\"Introduce un número y te doy los pares: \"))\n",
    "intentos = 0\n",
    "while numero<=0:\n",
    "    print(\"El número debe de ser mayor que 0 y positivo\")\n",
    "    if intentos ==2:\n",
    "        print(\"Exceso de intentos\")\n",
    "        break\n",
    "    numero=int(input(\"Introduce un número: \"))\n",
    "    if numero<0:\n",
    "        intentos=intentos+1\n",
    "print(\"Pares\")\n",
    "for i in range(numero):\n",
    "    if i%2 == 1:\n",
    "        print(i, end=\", \")\n",
    "\n",
    "print(\"-----\")\n",
    "\n",
    "for i in range(1, numero+1, 2):\n",
    "    print(i, end=\", \")\n",
    " "
   ]
  },
  {
   "cell_type": "code",
   "execution_count": 7,
   "metadata": {
    "tags": [
     "outputPrepend"
    ]
   },
   "outputs": [
    {
     "output_type": "stream",
     "name": "stdout",
     "text": [
      "1, 0\n",
      "4, 3, 2, 1, 0, "
     ]
    }
   ],
   "source": [
    "# Ejercicio 4: Escribir un programa que pida al usuario un número entero positivo y muestre por pantalla la cuenta atrás desde ese número hasta cero separados por comas.\n",
    "\n",
    "numero = int(input(\"Introduce un número y te doy la lista del reves: \"))\n",
    "\n",
    "intentos = 0\n",
    "while numero<=0:\n",
    "    print(\"El número debe de ser mayor que 0 y positivo\")\n",
    "    if intentos ==2:\n",
    "        print(\"Exceso de intentos\")\n",
    "        break\n",
    "    numero=int(input(\"Introduce un número: \"))\n",
    "    if numero<0:\n",
    "        intentos=intentos+1\n",
    "n=numero\n",
    "for i in range (numero):\n",
    "    print(n, end=\", \")\n",
    "    n= n-1\n",
    "print(0)\n",
    "n1 = int(input(\"Introduce un número entero positivo: \"))\n",
    "for i in range(n1, -1, -1):\n",
    "    print(i, end=\", \")\n"
   ]
  },
  {
   "cell_type": "code",
   "execution_count": null,
   "metadata": {},
   "outputs": [],
   "source": []
  }
 ]
}