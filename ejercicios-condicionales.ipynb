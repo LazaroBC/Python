{
 "metadata": {
  "language_info": {
   "codemirror_mode": {
    "name": "ipython",
    "version": 3
   },
   "file_extension": ".py",
   "mimetype": "text/x-python",
   "name": "python",
   "nbconvert_exporter": "python",
   "pygments_lexer": "ipython3",
   "version": "3.8.3-final"
  },
  "orig_nbformat": 2,
  "kernelspec": {
   "name": "python3",
   "display_name": "Python 3"
  }
 },
 "nbformat": 4,
 "nbformat_minor": 2,
 "cells": [
  {
   "cell_type": "code",
   "execution_count": 8,
   "metadata": {},
   "outputs": [
    {
     "output_type": "stream",
     "name": "stdout",
     "text": [
      "Eres mayor de edad.\n"
     ]
    }
   ],
   "source": [
    "# Ejercicio 1:  Escribir un programa que pregunte al usuario su edad y muestre por pantalla si es mayor de edad o no.\n",
    "edad = int(input(\"Introduce tú edad: \"))\n",
    "if edad < 18:\n",
    "    print(\"Eres menor de edad.\")\n",
    "else:\n",
    "    print(\"Eres mayor de edad.\")\n"
   ]
  },
  {
   "cell_type": "code",
   "execution_count": 6,
   "metadata": {},
   "outputs": [
    {
     "output_type": "stream",
     "name": "stdout",
     "text": [
      "Lacontraseña esincorrecta\n"
     ]
    }
   ],
   "source": [
    "# Ejercicio 2: Escribir un programa que almacene la cadena de caracteres contraseña en una variable, pregunte al usuario por la contraseña e imprima por pantalla si la contraseña introducida por el usuario coincide con la guardada en la variable sin tener en cuenta mayúsculas y minúsculas.\n",
    "\n",
    "contrasenya = \"Casa1234\"\n",
    "valor = input(\"Intoduzca su contraseña: \")\n",
    "if contrasenya.lower() == valor.lower():\n",
    "    print(\"La contraseña es correcta\")\n",
    "else:\n",
    "    print(\"Lacontraseña es incorrecta\")\n",
    "\n",
    "\n"
   ]
  },
  {
   "cell_type": "code",
   "execution_count": 17,
   "metadata": {},
   "outputs": [
    {
     "output_type": "stream",
     "name": "stdout",
     "text": [
      "El resultado es: 5.0\n"
     ]
    }
   ],
   "source": [
    "# Ejercicio 3: Escribir un programa que pida al usuario dos números y muestre por pantalla su división. Si el divisor es cero el programa debe mostrar un error.\n",
    "\n",
    "\n",
    "dividendo = int(input(\"Introduce el dividendo: \"))\n",
    "divisor = int(input(\"Introduce el divisor: \"))\n",
    "if divisor == 0:\n",
    "    print(\"Error, no se puede dividir por 0.\")\n",
    "else:\n",
    "    print(\"El resultado es: \" + str(dividendo/divisor))"
   ]
  },
  {
   "cell_type": "code",
   "execution_count": 20,
   "metadata": {},
   "outputs": [
    {
     "output_type": "stream",
     "name": "stdout",
     "text": [
      "Es impar\n"
     ]
    }
   ],
   "source": [
    "# Ejercicio 4: Escribir un programa que pida al usuario un número entero y muestre por pantalla si es par o impar.\n",
    "numero = int(input(\"Introduce un numero: \"))\n",
    "if numero%2 == 0:\n",
    "    print(\"Es par\")\n",
    "else:\n",
    "    print(\"Es impar\")\n"
   ]
  },
  {
   "cell_type": "code",
   "execution_count": 23,
   "metadata": {},
   "outputs": [
    {
     "output_type": "stream",
     "name": "stdout",
     "text": [
      "No debe tributar\n"
     ]
    }
   ],
   "source": [
    "# Ejercicio 5: Para tributar un determinado impuesto se debe ser mayor de 16 años y tener unos ingresos iguales o superiores a 1000 € mensuales. Escribir un programa que pregunte al usuario su edad y sus ingresos mensuales y muestre por pantalla si el usuario tiene que tributar o no.\n",
    "\n",
    "edad = int(input(\"Introduzca su edad: \"))\n",
    "ingresos = int(input(\"Introduzca sus ingresos: \"))\n",
    "if edad>15 and ingresos >= 1000:\n",
    "    print(\"Debe tributar\")\n",
    "else:\n",
    "    print(\"No debe tributar\")\n"
   ]
  },
  {
   "cell_type": "code",
   "execution_count": 4,
   "metadata": {
    "tags": []
   },
   "outputs": [
    {
     "output_type": "stream",
     "name": "stdout",
     "text": [
      "Perteneces al grupo B\n"
     ]
    }
   ],
   "source": [
    "# Ejercicio 6: Los alumnos de un curso se han dividido en dos grupos A y B de acuerdo al sexo y el nombre. El grupo A esta formado por las mujeres con un nombre anterior a la M y los hombres con un nombre posterior a la N y el grupo B por el resto. Escribir un programa que pregunte al usuario su nombre y sexo, y muestre por pantalla el grupo que le corresponde.\n",
    "nombre = input(\"Introduce tu nombre: \")\n",
    "sexo = input(\"introduce tu sexo(M o H): \")\n",
    "    \n",
    "if sexo.lower() == \"m\":\n",
    "    if nombre.lower()<\"m\":\n",
    "        print(\"Perteneces al grupo A\")\n",
    "    else:\n",
    "        print(\"Perteneces al grupo B\")\n",
    "else:\n",
    "    if nombre.lower()>\"n\":\n",
    "        print (\"Perteneces al gurpo A\")\n",
    "    else:\n",
    "        print(\"Perteneces al gtupo B\")"
   ]
  },
  {
   "cell_type": "code",
   "execution_count": 15,
   "metadata": {},
   "outputs": [
    {
     "output_type": "stream",
     "name": "stdout",
     "text": [
      "Su tipo impositivo es 45%, total a pagar 450000.0\n"
     ]
    }
   ],
   "source": [
    "# Ejercicio 7: Escribir un programa que pregunte al usuario su renta anual y muestre por pantalla el tipo impositivo que le corresponde.\n",
    "\n",
    "renta= int(input(\"Introduzca su renta anual\"))\n",
    "if renta < 10000:\n",
    "    print(\"Su tipo impositivo es 5%, total a pagar \" + str(renta*0.05))\n",
    "elif renta >= 10000 and renta < 20000:\n",
    "    print(\"Su tipo impositivo es 15%, total a pagar \" + str(renta*0.15))\n",
    "elif renta >= 20000 and renta < 35000:\n",
    "    print(\"Su tipo impositivo es 20%, total a pagar \" + str(renta*0.20))\n",
    "elif renta >= 35000 and renta < 60000:\n",
    "    print(\"Su tipo impositivo es 30%, total a pagar \" + str(renta*0.30))\n",
    "else:\n",
    "    print(\"Su tipo impositivo es 45%, total a pagar \" + str(renta*0.45))"
   ]
  },
  {
   "cell_type": "code",
   "execution_count": 18,
   "metadata": {},
   "outputs": [
    {
     "output_type": "stream",
     "name": "stdout",
     "text": [
      "Tu nivel de rendimiento es Meritorio\nTe corresponde cobrar 14400.00€\n"
     ]
    }
   ],
   "source": [
    "# Ejercicio 8: Escribir un programa que lea la puntuación del usuario e indique su nivel de rendimiento, así como la cantidad de dinero que recibirá el usuario.\n",
    "bonificacion = 2400\n",
    "inaceptable = 0\n",
    "aceptable = 0.4\n",
    "meritorio = 0.6\n",
    "puntos = float(input(\"Introduce tu puntuación: \"))\n",
    "# Clasifiación por niveles de rendimiento\n",
    "if puntos == inaceptable:\n",
    "    nivel = \"Inaceptable\"\n",
    "elif puntos == aceptable:\n",
    "    nivel = \"Aceptable\"\n",
    "elif puntos >= 0.6:\n",
    "    nivel = \"Meritorio\"\n",
    "else:\n",
    "    nivel = \"\"\n",
    "# Mostrar nivel de rendimiento\n",
    "if nivel == \"\":\n",
    "    print(\"Esta puntuación no es válida\")\n",
    "else:\n",
    "    print(\"Tu nivel de rendimiento es %s\" % nivel)\n",
    "    print(\"Te corresponde cobrar %.2f€\" % (puntos * bonificacion))"
   ]
  },
  {
   "cell_type": "code",
   "execution_count": 12,
   "metadata": {},
   "outputs": [
    {
     "output_type": "stream",
     "name": "stdout",
     "text": [
      "Paga 10\n"
     ]
    }
   ],
   "source": [
    "# Ejercicio 9: Escribir un programa para una empresa que tiene salas de juegos para todas las edades y quiere calcular de forma automática el precio que debe cobrar a sus clientes por entrar. El programa debe preguntar al usuario la edad del cliente y mostrar el precio de la entrada. Si el cliente es menor de 4 años puede entrar gratis, si tiene entre 4 y 18 años debe pagar 5€ y si es mayor de 18 años, 10€.\n",
    "\n",
    "edad = int(input(\"Digame su edad: \"))\n",
    "if edad<4:\n",
    "    precio = 0\n",
    "elif edad<=18:\n",
    "    precio = 5\n",
    "else:\n",
    "    precio = 10\n",
    "\n",
    "print(\"Paga \" + str(precio))"
   ]
  },
  {
   "cell_type": "code",
   "execution_count": 20,
   "metadata": {},
   "outputs": [
    {
     "output_type": "stream",
     "name": "stdout",
     "text": [
      "Tu pizza lleva Tomate, mozzarella y tofu\n",
      "Bienvenido a la pizzeria Bella Napoli.\n",
      "Tipos de pizza\n",
      "\t1- Vegetariana\n",
      "\t2- No vegetariana\n",
      "\n",
      "Ingredientes de pizzas no vegetarianas\n",
      "\t1- Peperoni\n",
      "\t2- Jamón\n",
      "\t3- Salmón\n",
      "\n",
      "Pizza no vegetarina con mozarrella, tomate y salmón\n"
     ]
    }
   ],
   "source": [
    "# Ejercicio 10: La pizzería Bella Napoli ofrece pizzas vegetarianas y no vegetarianas a sus clientes. Los ingredientes para cada tipo de pizza aparecen a continuación.\n",
    "# - Ingredientes vegetarianos: Pimiento y tofu.\n",
    "# - Ingredientes no vegetarianos: Peperoni, Jamón y Salmón.\n",
    "# Escribir un programa que pregunte al usuario si quiere una pizza vegetariana o no, y en función de su respuesta le muestre un menú con los ingredientes disponibles para que elija. Solo se puede eligir un ingrediente además de la mozzarella y el tomate que están en todas la pizzas. Al final se debe mostrar por pantalla si la pizza elegida es vegetariana o no y todos los ingredientes que lleva.\n",
    "\n",
    "pizza = input(\"Vegetariana 'V' o no 'N' : \" )\n",
    "if pizza == \"V\":\n",
    "    ingrediente = input(\"\"\"Elige uno de estos ingredientes: \n",
    "        .- Pimiento 'P'\n",
    "        .- Tofu 'T'\n",
    "    \"\"\")\n",
    "    if ingrediente == \"P\":\n",
    "        print(\"Tu pizza lleva Tomate, mozzarella y pimiento\")\n",
    "    else:\n",
    "        print(\"Tu pizza lleva Tomate, mozzarella y tofu\")\n",
    "else:\n",
    "    ingrediente = input(\"\"\"Elige uno de estos ingredientes: \n",
    "        .- Peperoni 'P'\n",
    "        .- Jamón 'J'\n",
    "        .- Salmón 'S'\n",
    "    \"\"\")\n",
    "    if ingrediente == \"P\":\n",
    "        print(\"Tu pizza lleva Tomate, mozzarella y peperoni\")\n",
    "    elif ingrediente == \"J\":\n",
    "        print(\"Tu pizza lleva Tomate, mozzarella y Jamón\")\n",
    "    else:\n",
    "        print(\"Tu pizza lleva Tomate, mozzarella y salmón\")\n",
    "\n",
    "# Presentación del menú con los tipos de pizza\n",
    "print(\"Bienvenido a la pizzeria Bella Napoli.\\nTipos de pizza\\n\\t1- Vegetariana\\n\\t2- No vegetariana\\n\")\n",
    "tipo = input(\"Introduce el número correspondiente al tipo de pizza que quieres:\")\n",
    "# Decisión sobre el tipo de pizza\n",
    "if tipo == \"1\":\n",
    "    print(\"Ingredientes de pizzas vegetarianas\\n\\t 1- Pimiento\\n\\t2- Tofu\\n\")\n",
    "    ingrediente = input(\"Introduce el ingrediente que deseas: \")\n",
    "    print(\"Pizza vegetariana con mozzarella, tomate y \", end=\"\")\n",
    "    if ingrediente == \"1\":\n",
    "        print(\"pimiento\")\n",
    "    else: \n",
    "        print(\"tofu\")\n",
    "else:\n",
    "    print(\"Ingredientes de pizzas no vegetarianas\\n\\t1- Peperoni\\n\\t2- Jamón\\n\\t3- Salmón\\n\")\n",
    "    ingrediente = input(\"Introduce el ingrediente que deseas: \")\n",
    "    print(\"Pizza no vegetarina con mozarrella, tomate y \", end=\"\")\n",
    "    if ingrediente == \"1\":\n",
    "        print(\"peperoni\")\n",
    "    elif ingrediente == \"2\":\n",
    "        print(\"jamón\")\n",
    "    else:\n",
    "        print(\"salmón\")\n",
    "\n"
   ]
  },
  {
   "cell_type": "code",
   "execution_count": null,
   "metadata": {},
   "outputs": [],
   "source": []
  }
 ]
}