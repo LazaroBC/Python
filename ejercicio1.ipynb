{
 "metadata": {
  "language_info": {
   "codemirror_mode": {
    "name": "ipython",
    "version": 3
   },
   "file_extension": ".py",
   "mimetype": "text/x-python",
   "name": "python",
   "nbconvert_exporter": "python",
   "pygments_lexer": "ipython3",
   "version": "3.8.3-final"
  },
  "orig_nbformat": 2,
  "kernelspec": {
   "name": "python3",
   "display_name": "Python 3"
  }
 },
 "nbformat": 4,
 "nbformat_minor": 2,
 "cells": [
  {
   "cell_type": "code",
   "execution_count": 1,
   "metadata": {},
   "outputs": [],
   "source": [
    "import turtle\n",
    "\n",
    "screen = turtle.Screen()\n",
    "screen.setup(800,600)\n",
    "\n",
    "circle = turtle.Turtle()\n",
    "circle.shape('circle')\n",
    "circle.color('red')\n",
    "circle.speed('fastest')\n",
    "circle.up()\n",
    "\n",
    "square = turtle.Turtle()\n",
    "square.shape('square')\n",
    "square.color('green')\n",
    "square.speed('fastest')\n",
    "square.up()\n",
    "\n",
    "circle.goto(0,280)\n",
    "circle.stamp()\n",
    "\n",
    "k = 0\n",
    "for i in range(1, 17):\n",
    "    y = 30*i\n",
    "    for j in range(i-k):\n",
    "        x = 30*j\n",
    "        square.goto(x,-y+280)\n",
    "        square.stamp()\n",
    "        square.goto(-x,-y+280)\n",
    "        square.stamp()\n",
    "\n",
    "    if i % 4 == 0:\n",
    "        x =  30*(j+1)\n",
    "        circle.color('red')\n",
    "        circle.goto(-x,-y+280)\n",
    "        circle.stamp()\n",
    "        circle.goto(x,-y+280)\n",
    "        circle.stamp()        \n",
    "        k += 2\n",
    "\n",
    "    if i % 4 == 3:\n",
    "        x =  30*(j+1)\n",
    "        circle.color('yellow')\n",
    "        circle.goto(-x,-y+280)\n",
    "        circle.stamp()\n",
    "        circle.goto(x,-y+280)\n",
    "        circle.stamp() \n",
    "\n",
    "square.color('brown')\n",
    "for i in range(17,20):\n",
    "    y = 30*i\n",
    "    for j in range(3):    \n",
    "        x = 30*j\n",
    "        square.goto(x,-y+280)\n",
    "        square.stamp()\n",
    "        square.goto(-x,-y+280)\n",
    "        square.stamp()        \n",
    "        \n",
    "turtle.exitonclick()"
   ]
  },
  {
   "cell_type": "code",
   "execution_count": null,
   "metadata": {},
   "outputs": [],
   "source": []
  }
 ]
}